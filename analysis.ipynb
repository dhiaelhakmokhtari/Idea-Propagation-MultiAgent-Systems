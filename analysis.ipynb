{
 "cells": [
  {
   "cell_type": "code",
   "execution_count": null,
   "metadata": {
    "vscode": {
     "languageId": "plaintext"
    }
   },
   "outputs": [],
   "source": [
    "import numpy as np\n",
    "import matplotlib.pyplot as plt\n",
    "from simulator import SpatialGame"
   ]
  },
  {
   "cell_type": "code",
   "execution_count": null,
   "metadata": {
    "vscode": {
     "languageId": "plaintext"
    }
   },
   "outputs": [],
   "source": [
    "b_values = np.linspace(1.0, 2.0, 20)\n",
    "final_proportions = []\n",
    "\n",
    "for b in b_values:\n",
    "    sim = SpatialGame(b=b)\n",
    "    sim.run(steps=100)\n",
    "    final_proportions.append(sim.c_proportions[-1])\n",
    "    \n",
    "plt.plot(b_values, final_proportions)\n",
    "plt.xlabel('Defector Advantage (b)')\n",
    "plt.ylabel('Final Cooperators Proportion')\n",
    "plt.show()"
   ]
  }
 ],
 "metadata": {
  "language_info": {
   "name": "python"
  }
 },
 "nbformat": 4,
 "nbformat_minor": 2
}
